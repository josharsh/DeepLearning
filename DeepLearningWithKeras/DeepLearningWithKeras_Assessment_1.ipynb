{
  "nbformat": 4,
  "nbformat_minor": 0,
  "metadata": {
    "colab": {
      "name": "DeepLearningWithKeras Assessment 1.ipynb",
      "provenance": [],
      "authorship_tag": "ABX9TyMUFldKPem5UCbWprPh9BDJ",
      "include_colab_link": true
    },
    "kernelspec": {
      "name": "python3",
      "display_name": "Python 3"
    }
  },
  "cells": [
    {
      "cell_type": "markdown",
      "metadata": {
        "id": "view-in-github",
        "colab_type": "text"
      },
      "source": [
        "<a href=\"https://colab.research.google.com/github/josharsh/DeepLearning/blob/master/DeepLearningWithKeras/DeepLearningWithKeras_Assessment_1.ipynb\" target=\"_parent\"><img src=\"https://colab.research.google.com/assets/colab-badge.svg\" alt=\"Open In Colab\"/></a>"
      ]
    },
    {
      "cell_type": "code",
      "metadata": {
        "id": "OfOeK6hLdDau",
        "colab_type": "code",
        "colab": {}
      },
      "source": [
        "import pandas as pd\n",
        "import numpy as np"
      ],
      "execution_count": 0,
      "outputs": []
    },
    {
      "cell_type": "code",
      "metadata": {
        "id": "4yQ43W74femV",
        "colab_type": "code",
        "colab": {}
      },
      "source": [
        "data = pd.read_csv('https://cocl.us/concrete_data')"
      ],
      "execution_count": 0,
      "outputs": []
    },
    {
      "cell_type": "code",
      "metadata": {
        "id": "rpaxr9POfjNM",
        "colab_type": "code",
        "colab": {
          "base_uri": "https://localhost:8080/",
          "height": 204
        },
        "outputId": "fb70c9f5-f25d-4fda-a63f-2241710d4cdd"
      },
      "source": [
        "data.head()"
      ],
      "execution_count": 7,
      "outputs": [
        {
          "output_type": "execute_result",
          "data": {
            "text/html": [
              "<div>\n",
              "<style scoped>\n",
              "    .dataframe tbody tr th:only-of-type {\n",
              "        vertical-align: middle;\n",
              "    }\n",
              "\n",
              "    .dataframe tbody tr th {\n",
              "        vertical-align: top;\n",
              "    }\n",
              "\n",
              "    .dataframe thead th {\n",
              "        text-align: right;\n",
              "    }\n",
              "</style>\n",
              "<table border=\"1\" class=\"dataframe\">\n",
              "  <thead>\n",
              "    <tr style=\"text-align: right;\">\n",
              "      <th></th>\n",
              "      <th>Cement</th>\n",
              "      <th>Blast Furnace Slag</th>\n",
              "      <th>Fly Ash</th>\n",
              "      <th>Water</th>\n",
              "      <th>Superplasticizer</th>\n",
              "      <th>Coarse Aggregate</th>\n",
              "      <th>Fine Aggregate</th>\n",
              "      <th>Age</th>\n",
              "      <th>Strength</th>\n",
              "    </tr>\n",
              "  </thead>\n",
              "  <tbody>\n",
              "    <tr>\n",
              "      <th>0</th>\n",
              "      <td>540.0</td>\n",
              "      <td>0.0</td>\n",
              "      <td>0.0</td>\n",
              "      <td>162.0</td>\n",
              "      <td>2.5</td>\n",
              "      <td>1040.0</td>\n",
              "      <td>676.0</td>\n",
              "      <td>28</td>\n",
              "      <td>79.99</td>\n",
              "    </tr>\n",
              "    <tr>\n",
              "      <th>1</th>\n",
              "      <td>540.0</td>\n",
              "      <td>0.0</td>\n",
              "      <td>0.0</td>\n",
              "      <td>162.0</td>\n",
              "      <td>2.5</td>\n",
              "      <td>1055.0</td>\n",
              "      <td>676.0</td>\n",
              "      <td>28</td>\n",
              "      <td>61.89</td>\n",
              "    </tr>\n",
              "    <tr>\n",
              "      <th>2</th>\n",
              "      <td>332.5</td>\n",
              "      <td>142.5</td>\n",
              "      <td>0.0</td>\n",
              "      <td>228.0</td>\n",
              "      <td>0.0</td>\n",
              "      <td>932.0</td>\n",
              "      <td>594.0</td>\n",
              "      <td>270</td>\n",
              "      <td>40.27</td>\n",
              "    </tr>\n",
              "    <tr>\n",
              "      <th>3</th>\n",
              "      <td>332.5</td>\n",
              "      <td>142.5</td>\n",
              "      <td>0.0</td>\n",
              "      <td>228.0</td>\n",
              "      <td>0.0</td>\n",
              "      <td>932.0</td>\n",
              "      <td>594.0</td>\n",
              "      <td>365</td>\n",
              "      <td>41.05</td>\n",
              "    </tr>\n",
              "    <tr>\n",
              "      <th>4</th>\n",
              "      <td>198.6</td>\n",
              "      <td>132.4</td>\n",
              "      <td>0.0</td>\n",
              "      <td>192.0</td>\n",
              "      <td>0.0</td>\n",
              "      <td>978.4</td>\n",
              "      <td>825.5</td>\n",
              "      <td>360</td>\n",
              "      <td>44.30</td>\n",
              "    </tr>\n",
              "  </tbody>\n",
              "</table>\n",
              "</div>"
            ],
            "text/plain": [
              "   Cement  Blast Furnace Slag  Fly Ash  ...  Fine Aggregate  Age  Strength\n",
              "0   540.0                 0.0      0.0  ...           676.0   28     79.99\n",
              "1   540.0                 0.0      0.0  ...           676.0   28     61.89\n",
              "2   332.5               142.5      0.0  ...           594.0  270     40.27\n",
              "3   332.5               142.5      0.0  ...           594.0  365     41.05\n",
              "4   198.6               132.4      0.0  ...           825.5  360     44.30\n",
              "\n",
              "[5 rows x 9 columns]"
            ]
          },
          "metadata": {
            "tags": []
          },
          "execution_count": 7
        }
      ]
    },
    {
      "cell_type": "code",
      "metadata": {
        "id": "fhzvgEk7hsOD",
        "colab_type": "code",
        "colab": {
          "base_uri": "https://localhost:8080/",
          "height": 34
        },
        "outputId": "c344f6c9-10e3-4adb-bfa0-41293cee32c4"
      },
      "source": [
        "data.shape"
      ],
      "execution_count": 8,
      "outputs": [
        {
          "output_type": "execute_result",
          "data": {
            "text/plain": [
              "(1030, 9)"
            ]
          },
          "metadata": {
            "tags": []
          },
          "execution_count": 8
        }
      ]
    },
    {
      "cell_type": "code",
      "metadata": {
        "id": "gb7HIg1Vh1TP",
        "colab_type": "code",
        "colab": {
          "base_uri": "https://localhost:8080/",
          "height": 255
        },
        "outputId": "134494c5-6772-459f-b97e-bec8079bd5a7"
      },
      "source": [
        "data.describe"
      ],
      "execution_count": 9,
      "outputs": [
        {
          "output_type": "execute_result",
          "data": {
            "text/plain": [
              "<bound method NDFrame.describe of       Cement  Blast Furnace Slag  Fly Ash  ...  Fine Aggregate  Age  Strength\n",
              "0      540.0                 0.0      0.0  ...           676.0   28     79.99\n",
              "1      540.0                 0.0      0.0  ...           676.0   28     61.89\n",
              "2      332.5               142.5      0.0  ...           594.0  270     40.27\n",
              "3      332.5               142.5      0.0  ...           594.0  365     41.05\n",
              "4      198.6               132.4      0.0  ...           825.5  360     44.30\n",
              "...      ...                 ...      ...  ...             ...  ...       ...\n",
              "1025   276.4               116.0     90.3  ...           768.3   28     44.28\n",
              "1026   322.2                 0.0    115.6  ...           813.4   28     31.18\n",
              "1027   148.5               139.4    108.6  ...           780.0   28     23.70\n",
              "1028   159.1               186.7      0.0  ...           788.9   28     32.77\n",
              "1029   260.9               100.5     78.3  ...           761.5   28     32.40\n",
              "\n",
              "[1030 rows x 9 columns]>"
            ]
          },
          "metadata": {
            "tags": []
          },
          "execution_count": 9
        }
      ]
    },
    {
      "cell_type": "code",
      "metadata": {
        "id": "FJY50J7eh6l8",
        "colab_type": "code",
        "colab": {}
      },
      "source": [
        "cols=data.columns"
      ],
      "execution_count": 0,
      "outputs": []
    },
    {
      "cell_type": "code",
      "metadata": {
        "id": "rJqloKoziDOg",
        "colab_type": "code",
        "colab": {}
      },
      "source": [
        "pred=cols[cols!=\"Strength\"]"
      ],
      "execution_count": 0,
      "outputs": []
    },
    {
      "cell_type": "code",
      "metadata": {
        "id": "eCZicPcfiQlM",
        "colab_type": "code",
        "colab": {}
      },
      "source": [
        "pred_data=data[pred]"
      ],
      "execution_count": 0,
      "outputs": []
    },
    {
      "cell_type": "code",
      "metadata": {
        "id": "N96K4QZ7iSUb",
        "colab_type": "code",
        "colab": {
          "base_uri": "https://localhost:8080/",
          "height": 255
        },
        "outputId": "7249f278-0425-4b09-f56b-aba3575e64f6"
      },
      "source": [
        "pred_data.describe"
      ],
      "execution_count": 52,
      "outputs": [
        {
          "output_type": "execute_result",
          "data": {
            "text/plain": [
              "<bound method NDFrame.describe of       Cement  Blast Furnace Slag  ...  Fine Aggregate  Age\n",
              "0      540.0                 0.0  ...           676.0   28\n",
              "1      540.0                 0.0  ...           676.0   28\n",
              "2      332.5               142.5  ...           594.0  270\n",
              "3      332.5               142.5  ...           594.0  365\n",
              "4      198.6               132.4  ...           825.5  360\n",
              "...      ...                 ...  ...             ...  ...\n",
              "1025   276.4               116.0  ...           768.3   28\n",
              "1026   322.2                 0.0  ...           813.4   28\n",
              "1027   148.5               139.4  ...           780.0   28\n",
              "1028   159.1               186.7  ...           788.9   28\n",
              "1029   260.9               100.5  ...           761.5   28\n",
              "\n",
              "[1030 rows x 8 columns]>"
            ]
          },
          "metadata": {
            "tags": []
          },
          "execution_count": 52
        }
      ]
    },
    {
      "cell_type": "code",
      "metadata": {
        "id": "9gxbEEnQia7F",
        "colab_type": "code",
        "colab": {
          "base_uri": "https://localhost:8080/",
          "height": 204
        },
        "outputId": "e69abecc-8c39-4ab9-e649-619722b4d7ba"
      },
      "source": [
        "pred_data.head()\n"
      ],
      "execution_count": 53,
      "outputs": [
        {
          "output_type": "execute_result",
          "data": {
            "text/html": [
              "<div>\n",
              "<style scoped>\n",
              "    .dataframe tbody tr th:only-of-type {\n",
              "        vertical-align: middle;\n",
              "    }\n",
              "\n",
              "    .dataframe tbody tr th {\n",
              "        vertical-align: top;\n",
              "    }\n",
              "\n",
              "    .dataframe thead th {\n",
              "        text-align: right;\n",
              "    }\n",
              "</style>\n",
              "<table border=\"1\" class=\"dataframe\">\n",
              "  <thead>\n",
              "    <tr style=\"text-align: right;\">\n",
              "      <th></th>\n",
              "      <th>Cement</th>\n",
              "      <th>Blast Furnace Slag</th>\n",
              "      <th>Fly Ash</th>\n",
              "      <th>Water</th>\n",
              "      <th>Superplasticizer</th>\n",
              "      <th>Coarse Aggregate</th>\n",
              "      <th>Fine Aggregate</th>\n",
              "      <th>Age</th>\n",
              "    </tr>\n",
              "  </thead>\n",
              "  <tbody>\n",
              "    <tr>\n",
              "      <th>0</th>\n",
              "      <td>540.0</td>\n",
              "      <td>0.0</td>\n",
              "      <td>0.0</td>\n",
              "      <td>162.0</td>\n",
              "      <td>2.5</td>\n",
              "      <td>1040.0</td>\n",
              "      <td>676.0</td>\n",
              "      <td>28</td>\n",
              "    </tr>\n",
              "    <tr>\n",
              "      <th>1</th>\n",
              "      <td>540.0</td>\n",
              "      <td>0.0</td>\n",
              "      <td>0.0</td>\n",
              "      <td>162.0</td>\n",
              "      <td>2.5</td>\n",
              "      <td>1055.0</td>\n",
              "      <td>676.0</td>\n",
              "      <td>28</td>\n",
              "    </tr>\n",
              "    <tr>\n",
              "      <th>2</th>\n",
              "      <td>332.5</td>\n",
              "      <td>142.5</td>\n",
              "      <td>0.0</td>\n",
              "      <td>228.0</td>\n",
              "      <td>0.0</td>\n",
              "      <td>932.0</td>\n",
              "      <td>594.0</td>\n",
              "      <td>270</td>\n",
              "    </tr>\n",
              "    <tr>\n",
              "      <th>3</th>\n",
              "      <td>332.5</td>\n",
              "      <td>142.5</td>\n",
              "      <td>0.0</td>\n",
              "      <td>228.0</td>\n",
              "      <td>0.0</td>\n",
              "      <td>932.0</td>\n",
              "      <td>594.0</td>\n",
              "      <td>365</td>\n",
              "    </tr>\n",
              "    <tr>\n",
              "      <th>4</th>\n",
              "      <td>198.6</td>\n",
              "      <td>132.4</td>\n",
              "      <td>0.0</td>\n",
              "      <td>192.0</td>\n",
              "      <td>0.0</td>\n",
              "      <td>978.4</td>\n",
              "      <td>825.5</td>\n",
              "      <td>360</td>\n",
              "    </tr>\n",
              "  </tbody>\n",
              "</table>\n",
              "</div>"
            ],
            "text/plain": [
              "   Cement  Blast Furnace Slag  Fly Ash  ...  Coarse Aggregate  Fine Aggregate  Age\n",
              "0   540.0                 0.0      0.0  ...            1040.0           676.0   28\n",
              "1   540.0                 0.0      0.0  ...            1055.0           676.0   28\n",
              "2   332.5               142.5      0.0  ...             932.0           594.0  270\n",
              "3   332.5               142.5      0.0  ...             932.0           594.0  365\n",
              "4   198.6               132.4      0.0  ...             978.4           825.5  360\n",
              "\n",
              "[5 rows x 8 columns]"
            ]
          },
          "metadata": {
            "tags": []
          },
          "execution_count": 53
        }
      ]
    },
    {
      "cell_type": "code",
      "metadata": {
        "id": "GHNOlo_uifRl",
        "colab_type": "code",
        "colab": {}
      },
      "source": [
        "label=data['Strength']"
      ],
      "execution_count": 0,
      "outputs": []
    },
    {
      "cell_type": "code",
      "metadata": {
        "id": "G9ye9tXuilR2",
        "colab_type": "code",
        "colab": {}
      },
      "source": [
        "# Importing Keras\n",
        "import keras\n",
        "from keras.models import Sequential\n",
        "from keras.layers import Dense"
      ],
      "execution_count": 0,
      "outputs": []
    },
    {
      "cell_type": "code",
      "metadata": {
        "id": "HX-FK78ui2PZ",
        "colab_type": "code",
        "colab": {}
      },
      "source": [
        "def linearModel():\n",
        "  model=Sequential()\n",
        "  model.add(Dense(10,activation='relu',input_shape=(8,)))\n",
        "  model.add(Dense(1))\n",
        "  model.compile(optimizer='adam',loss='mean_squared_error')\n",
        "  return model"
      ],
      "execution_count": 0,
      "outputs": []
    },
    {
      "cell_type": "code",
      "metadata": {
        "id": "1r4EDuEQjdii",
        "colab_type": "code",
        "colab": {}
      },
      "source": [
        "from sklearn.model_selection import train_test_split\n",
        "from sklearn.metrics import mean_squared_error"
      ],
      "execution_count": 0,
      "outputs": []
    },
    {
      "cell_type": "code",
      "metadata": {
        "id": "jdQRC3fsjoTD",
        "colab_type": "code",
        "colab": {}
      },
      "source": [
        "xtrain, xtest, ytrain, ytest = train_test_split(pred_data, label, test_size=0.4)"
      ],
      "execution_count": 0,
      "outputs": []
    },
    {
      "cell_type": "code",
      "metadata": {
        "id": "Lo1r2yjoj1NU",
        "colab_type": "code",
        "colab": {
          "base_uri": "https://localhost:8080/",
          "height": 1000
        },
        "outputId": "ab405a62-f4bd-419f-a768-7cc6afe3eb24"
      },
      "source": [
        "m=linearModel()\n",
        "e=50\n",
        "m.fit(xtrain,ytrain,epochs=e)"
      ],
      "execution_count": 85,
      "outputs": [
        {
          "output_type": "stream",
          "text": [
            "Epoch 1/50\n",
            "618/618 [==============================] - 0s 535us/step - loss: 88534.0678\n",
            "Epoch 2/50\n",
            "618/618 [==============================] - 0s 43us/step - loss: 21717.7074\n",
            "Epoch 3/50\n",
            "618/618 [==============================] - 0s 57us/step - loss: 2733.9693\n",
            "Epoch 4/50\n",
            "618/618 [==============================] - 0s 50us/step - loss: 2100.7075\n",
            "Epoch 5/50\n",
            "618/618 [==============================] - 0s 51us/step - loss: 1741.6386\n",
            "Epoch 6/50\n",
            "618/618 [==============================] - 0s 40us/step - loss: 1653.8357\n",
            "Epoch 7/50\n",
            "618/618 [==============================] - 0s 42us/step - loss: 1557.5933\n",
            "Epoch 8/50\n",
            "618/618 [==============================] - 0s 42us/step - loss: 1451.1505\n",
            "Epoch 9/50\n",
            "618/618 [==============================] - 0s 43us/step - loss: 1363.5393\n",
            "Epoch 10/50\n",
            "618/618 [==============================] - 0s 43us/step - loss: 1280.4437\n",
            "Epoch 11/50\n",
            "618/618 [==============================] - 0s 55us/step - loss: 1197.9541\n",
            "Epoch 12/50\n",
            "618/618 [==============================] - 0s 41us/step - loss: 1125.5521\n",
            "Epoch 13/50\n",
            "618/618 [==============================] - 0s 41us/step - loss: 1055.8964\n",
            "Epoch 14/50\n",
            "618/618 [==============================] - 0s 54us/step - loss: 991.8105\n",
            "Epoch 15/50\n",
            "618/618 [==============================] - 0s 41us/step - loss: 931.6868\n",
            "Epoch 16/50\n",
            "618/618 [==============================] - 0s 44us/step - loss: 875.0936\n",
            "Epoch 17/50\n",
            "618/618 [==============================] - 0s 37us/step - loss: 821.3347\n",
            "Epoch 18/50\n",
            "618/618 [==============================] - 0s 50us/step - loss: 771.1202\n",
            "Epoch 19/50\n",
            "618/618 [==============================] - 0s 46us/step - loss: 728.7463\n",
            "Epoch 20/50\n",
            "618/618 [==============================] - 0s 41us/step - loss: 684.0890\n",
            "Epoch 21/50\n",
            "618/618 [==============================] - 0s 45us/step - loss: 643.0124\n",
            "Epoch 22/50\n",
            "618/618 [==============================] - 0s 44us/step - loss: 606.8579\n",
            "Epoch 23/50\n",
            "618/618 [==============================] - 0s 42us/step - loss: 572.2296\n",
            "Epoch 24/50\n",
            "618/618 [==============================] - 0s 40us/step - loss: 540.9327\n",
            "Epoch 25/50\n",
            "618/618 [==============================] - 0s 40us/step - loss: 511.6677\n",
            "Epoch 26/50\n",
            "618/618 [==============================] - 0s 42us/step - loss: 487.2011\n",
            "Epoch 27/50\n",
            "618/618 [==============================] - 0s 46us/step - loss: 462.4518\n",
            "Epoch 28/50\n",
            "618/618 [==============================] - 0s 48us/step - loss: 435.3600\n",
            "Epoch 29/50\n",
            "618/618 [==============================] - 0s 44us/step - loss: 411.4046\n",
            "Epoch 30/50\n",
            "618/618 [==============================] - 0s 47us/step - loss: 389.5008\n",
            "Epoch 31/50\n",
            "618/618 [==============================] - 0s 39us/step - loss: 372.0670\n",
            "Epoch 32/50\n",
            "618/618 [==============================] - 0s 41us/step - loss: 348.8510\n",
            "Epoch 33/50\n",
            "618/618 [==============================] - 0s 41us/step - loss: 332.9251\n",
            "Epoch 34/50\n",
            "618/618 [==============================] - 0s 49us/step - loss: 317.7659\n",
            "Epoch 35/50\n",
            "618/618 [==============================] - 0s 45us/step - loss: 302.6705\n",
            "Epoch 36/50\n",
            "618/618 [==============================] - 0s 55us/step - loss: 288.5751\n",
            "Epoch 37/50\n",
            "618/618 [==============================] - 0s 39us/step - loss: 276.8661\n",
            "Epoch 38/50\n",
            "618/618 [==============================] - 0s 40us/step - loss: 265.0280\n",
            "Epoch 39/50\n",
            "618/618 [==============================] - 0s 40us/step - loss: 252.6920\n",
            "Epoch 40/50\n",
            "618/618 [==============================] - 0s 38us/step - loss: 243.6884\n",
            "Epoch 41/50\n",
            "618/618 [==============================] - 0s 45us/step - loss: 235.8902\n",
            "Epoch 42/50\n",
            "618/618 [==============================] - 0s 54us/step - loss: 225.9027\n",
            "Epoch 43/50\n",
            "618/618 [==============================] - 0s 36us/step - loss: 216.8418\n",
            "Epoch 44/50\n",
            "618/618 [==============================] - 0s 48us/step - loss: 210.5800\n",
            "Epoch 45/50\n",
            "618/618 [==============================] - 0s 47us/step - loss: 202.7549\n",
            "Epoch 46/50\n",
            "618/618 [==============================] - 0s 39us/step - loss: 196.9021\n",
            "Epoch 47/50\n",
            "618/618 [==============================] - 0s 40us/step - loss: 194.0505\n",
            "Epoch 48/50\n",
            "618/618 [==============================] - 0s 39us/step - loss: 184.7047\n",
            "Epoch 49/50\n",
            "618/618 [==============================] - 0s 47us/step - loss: 182.5097\n",
            "Epoch 50/50\n",
            "618/618 [==============================] - 0s 50us/step - loss: 175.5632\n"
          ],
          "name": "stdout"
        },
        {
          "output_type": "execute_result",
          "data": {
            "text/plain": [
              "<keras.callbacks.History at 0x7fa7297d5198>"
            ]
          },
          "metadata": {
            "tags": []
          },
          "execution_count": 85
        }
      ]
    },
    {
      "cell_type": "code",
      "metadata": {
        "id": "eCexDyDuj3dE",
        "colab_type": "code",
        "colab": {
          "base_uri": "https://localhost:8080/",
          "height": 51
        },
        "outputId": "71e2e3cd-c908-4213-e377-cedd3cc166e1"
      },
      "source": [
        "lossl = m.evaluate(xtest, ytest)\n",
        "y_pred = m.predict(xtest)\n",
        "lossl"
      ],
      "execution_count": 86,
      "outputs": [
        {
          "output_type": "stream",
          "text": [
            "412/412 [==============================] - 0s 208us/step\n"
          ],
          "name": "stdout"
        },
        {
          "output_type": "execute_result",
          "data": {
            "text/plain": [
              "178.555628878399"
            ]
          },
          "metadata": {
            "tags": []
          },
          "execution_count": 86
        }
      ]
    },
    {
      "cell_type": "code",
      "metadata": {
        "id": "D8XXfHhhlRY5",
        "colab_type": "code",
        "colab": {
          "base_uri": "https://localhost:8080/",
          "height": 51
        },
        "outputId": "d213dbfc-9162-4bc9-e96d-d792220b54ce"
      },
      "source": [
        "mse = mean_squared_error(ytest, y_pred)\n",
        "print(\"MSE:\",mse)\n",
        "mean=np.mean(mse)\n",
        "print(\"Mean:\",mean)\n"
      ],
      "execution_count": 87,
      "outputs": [
        {
          "output_type": "stream",
          "text": [
            "MSE: 178.55560585249094\n",
            "Mean: 178.55560585249094\n"
          ],
          "name": "stdout"
        }
      ]
    },
    {
      "cell_type": "code",
      "metadata": {
        "id": "xQZTYbQHlYc5",
        "colab_type": "code",
        "colab": {
          "base_uri": "https://localhost:8080/",
          "height": 221
        },
        "outputId": "fc461aac-7376-4f3f-beb9-a4c3c6a7cef1"
      },
      "source": [
        "ytest"
      ],
      "execution_count": 88,
      "outputs": [
        {
          "output_type": "execute_result",
          "data": {
            "text/plain": [
              "750     44.09\n",
              "186     24.89\n",
              "427     19.42\n",
              "12      43.01\n",
              "735     40.86\n",
              "        ...  \n",
              "413     15.82\n",
              "745     22.44\n",
              "1000    44.61\n",
              "1006    18.03\n",
              "571     39.70\n",
              "Name: Strength, Length: 412, dtype: float64"
            ]
          },
          "metadata": {
            "tags": []
          },
          "execution_count": 88
        }
      ]
    },
    {
      "cell_type": "code",
      "metadata": {
        "id": "eT2fwa3MluJo",
        "colab_type": "code",
        "colab": {}
      },
      "source": [
        ""
      ],
      "execution_count": 0,
      "outputs": []
    },
    {
      "cell_type": "code",
      "metadata": {
        "id": "E1qFiFSpl6fz",
        "colab_type": "code",
        "colab": {}
      },
      "source": [
        ""
      ],
      "execution_count": 0,
      "outputs": []
    }
  ]
}